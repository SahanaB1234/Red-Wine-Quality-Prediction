{
 "cells": [
  {
   "cell_type": "code",
   "execution_count": 1,
   "id": "d27c87d3",
   "metadata": {},
   "outputs": [],
   "source": [
    "#importing packages\n",
    "import pandas as pd\n",
    "from sklearn.model_selection import train_test_split\n",
    "from sklearn.linear_model import LinearRegression\n",
    "from sklearn import metrics\n",
    "import matplotlib.pyplot as plt\n",
    "import numpy as np\n",
    "import seaborn as sns"
   ]
  },
  {
   "cell_type": "code",
   "execution_count": 2,
   "id": "457dfa2e",
   "metadata": {},
   "outputs": [
    {
     "data": {
      "text/html": [
       "<div>\n",
       "<style scoped>\n",
       "    .dataframe tbody tr th:only-of-type {\n",
       "        vertical-align: middle;\n",
       "    }\n",
       "\n",
       "    .dataframe tbody tr th {\n",
       "        vertical-align: top;\n",
       "    }\n",
       "\n",
       "    .dataframe thead th {\n",
       "        text-align: right;\n",
       "    }\n",
       "</style>\n",
       "<table border=\"1\" class=\"dataframe\">\n",
       "  <thead>\n",
       "    <tr style=\"text-align: right;\">\n",
       "      <th></th>\n",
       "      <th>fixed acidity</th>\n",
       "      <th>volatile acidity</th>\n",
       "      <th>citric acid</th>\n",
       "      <th>residual sugar</th>\n",
       "      <th>chlorides</th>\n",
       "      <th>free sulfur dioxide</th>\n",
       "      <th>total sulfur dioxide</th>\n",
       "      <th>density</th>\n",
       "      <th>pH</th>\n",
       "      <th>sulphates</th>\n",
       "      <th>alcohol</th>\n",
       "      <th>quality</th>\n",
       "      <th>Id</th>\n",
       "    </tr>\n",
       "  </thead>\n",
       "  <tbody>\n",
       "    <tr>\n",
       "      <th>0</th>\n",
       "      <td>7.4</td>\n",
       "      <td>0.70</td>\n",
       "      <td>0.00</td>\n",
       "      <td>1.9</td>\n",
       "      <td>0.076</td>\n",
       "      <td>11.0</td>\n",
       "      <td>34.0</td>\n",
       "      <td>0.9978</td>\n",
       "      <td>3.51</td>\n",
       "      <td>0.56</td>\n",
       "      <td>9.4</td>\n",
       "      <td>5</td>\n",
       "      <td>0</td>\n",
       "    </tr>\n",
       "    <tr>\n",
       "      <th>1</th>\n",
       "      <td>7.8</td>\n",
       "      <td>0.88</td>\n",
       "      <td>0.00</td>\n",
       "      <td>2.6</td>\n",
       "      <td>0.098</td>\n",
       "      <td>25.0</td>\n",
       "      <td>67.0</td>\n",
       "      <td>0.9968</td>\n",
       "      <td>3.20</td>\n",
       "      <td>0.68</td>\n",
       "      <td>9.8</td>\n",
       "      <td>5</td>\n",
       "      <td>1</td>\n",
       "    </tr>\n",
       "    <tr>\n",
       "      <th>2</th>\n",
       "      <td>7.8</td>\n",
       "      <td>0.76</td>\n",
       "      <td>0.04</td>\n",
       "      <td>2.3</td>\n",
       "      <td>0.092</td>\n",
       "      <td>15.0</td>\n",
       "      <td>54.0</td>\n",
       "      <td>0.9970</td>\n",
       "      <td>3.26</td>\n",
       "      <td>0.65</td>\n",
       "      <td>9.8</td>\n",
       "      <td>5</td>\n",
       "      <td>2</td>\n",
       "    </tr>\n",
       "    <tr>\n",
       "      <th>3</th>\n",
       "      <td>11.2</td>\n",
       "      <td>0.28</td>\n",
       "      <td>0.56</td>\n",
       "      <td>1.9</td>\n",
       "      <td>0.075</td>\n",
       "      <td>17.0</td>\n",
       "      <td>60.0</td>\n",
       "      <td>0.9980</td>\n",
       "      <td>3.16</td>\n",
       "      <td>0.58</td>\n",
       "      <td>9.8</td>\n",
       "      <td>6</td>\n",
       "      <td>3</td>\n",
       "    </tr>\n",
       "    <tr>\n",
       "      <th>4</th>\n",
       "      <td>7.4</td>\n",
       "      <td>0.70</td>\n",
       "      <td>0.00</td>\n",
       "      <td>1.9</td>\n",
       "      <td>0.076</td>\n",
       "      <td>11.0</td>\n",
       "      <td>34.0</td>\n",
       "      <td>0.9978</td>\n",
       "      <td>3.51</td>\n",
       "      <td>0.56</td>\n",
       "      <td>9.4</td>\n",
       "      <td>5</td>\n",
       "      <td>4</td>\n",
       "    </tr>\n",
       "  </tbody>\n",
       "</table>\n",
       "</div>"
      ],
      "text/plain": [
       "   fixed acidity  volatile acidity  citric acid  residual sugar  chlorides  \\\n",
       "0            7.4              0.70         0.00             1.9      0.076   \n",
       "1            7.8              0.88         0.00             2.6      0.098   \n",
       "2            7.8              0.76         0.04             2.3      0.092   \n",
       "3           11.2              0.28         0.56             1.9      0.075   \n",
       "4            7.4              0.70         0.00             1.9      0.076   \n",
       "\n",
       "   free sulfur dioxide  total sulfur dioxide  density    pH  sulphates  \\\n",
       "0                 11.0                  34.0   0.9978  3.51       0.56   \n",
       "1                 25.0                  67.0   0.9968  3.20       0.68   \n",
       "2                 15.0                  54.0   0.9970  3.26       0.65   \n",
       "3                 17.0                  60.0   0.9980  3.16       0.58   \n",
       "4                 11.0                  34.0   0.9978  3.51       0.56   \n",
       "\n",
       "   alcohol  quality  Id  \n",
       "0      9.4        5   0  \n",
       "1      9.8        5   1  \n",
       "2      9.8        5   2  \n",
       "3      9.8        6   3  \n",
       "4      9.4        5   4  "
      ]
     },
     "execution_count": 2,
     "metadata": {},
     "output_type": "execute_result"
    }
   ],
   "source": [
    "#reading the dataset\n",
    "dataset=pd.read_csv('wine-quality.csv')\n",
    "dataset.head()"
   ]
  },
  {
   "cell_type": "code",
   "execution_count": 3,
   "id": "874be11d",
   "metadata": {},
   "outputs": [
    {
     "name": "stdout",
     "output_type": "stream",
     "text": [
      "Shape of my wine dataset:(1143, 13)\n",
      "Column headers/names:['fixed acidity', 'volatile acidity', 'citric acid', 'residual sugar', 'chlorides', 'free sulfur dioxide', 'total sulfur dioxide', 'density', 'pH', 'sulphates', 'alcohol', 'quality', 'Id']\n"
     ]
    }
   ],
   "source": [
    "#shape of the dataset\n",
    "print(\"Shape of my wine dataset:{s}\".format(s=dataset.shape))\n",
    "print(\"Column headers/names:{s}\".format(s=list(dataset)))"
   ]
  },
  {
   "cell_type": "code",
   "execution_count": 4,
   "id": "c5fb3694",
   "metadata": {},
   "outputs": [
    {
     "name": "stdout",
     "output_type": "stream",
     "text": [
      "<class 'pandas.core.frame.DataFrame'>\n",
      "RangeIndex: 1143 entries, 0 to 1142\n",
      "Data columns (total 13 columns):\n",
      " #   Column                Non-Null Count  Dtype  \n",
      "---  ------                --------------  -----  \n",
      " 0   fixed acidity         1143 non-null   float64\n",
      " 1   volatile acidity      1143 non-null   float64\n",
      " 2   citric acid           1143 non-null   float64\n",
      " 3   residual sugar        1143 non-null   float64\n",
      " 4   chlorides             1143 non-null   float64\n",
      " 5   free sulfur dioxide   1143 non-null   float64\n",
      " 6   total sulfur dioxide  1143 non-null   float64\n",
      " 7   density               1143 non-null   float64\n",
      " 8   pH                    1143 non-null   float64\n",
      " 9   sulphates             1143 non-null   float64\n",
      " 10  alcohol               1143 non-null   float64\n",
      " 11  quality               1143 non-null   int64  \n",
      " 12  Id                    1143 non-null   int64  \n",
      "dtypes: float64(11), int64(2)\n",
      "memory usage: 116.2 KB\n"
     ]
    }
   ],
   "source": [
    "dataset.info()"
   ]
  },
  {
   "cell_type": "code",
   "execution_count": 5,
   "id": "e7b59118",
   "metadata": {},
   "outputs": [
    {
     "data": {
      "text/html": [
       "<div>\n",
       "<style scoped>\n",
       "    .dataframe tbody tr th:only-of-type {\n",
       "        vertical-align: middle;\n",
       "    }\n",
       "\n",
       "    .dataframe tbody tr th {\n",
       "        vertical-align: top;\n",
       "    }\n",
       "\n",
       "    .dataframe thead th {\n",
       "        text-align: right;\n",
       "    }\n",
       "</style>\n",
       "<table border=\"1\" class=\"dataframe\">\n",
       "  <thead>\n",
       "    <tr style=\"text-align: right;\">\n",
       "      <th></th>\n",
       "      <th>fixed acidity</th>\n",
       "      <th>volatile acidity</th>\n",
       "      <th>citric acid</th>\n",
       "      <th>residual sugar</th>\n",
       "      <th>chlorides</th>\n",
       "      <th>free sulfur dioxide</th>\n",
       "      <th>total sulfur dioxide</th>\n",
       "      <th>density</th>\n",
       "      <th>pH</th>\n",
       "      <th>sulphates</th>\n",
       "      <th>alcohol</th>\n",
       "      <th>quality</th>\n",
       "      <th>Id</th>\n",
       "    </tr>\n",
       "  </thead>\n",
       "  <tbody>\n",
       "    <tr>\n",
       "      <th>count</th>\n",
       "      <td>1143.000000</td>\n",
       "      <td>1143.000000</td>\n",
       "      <td>1143.000000</td>\n",
       "      <td>1143.000000</td>\n",
       "      <td>1143.000000</td>\n",
       "      <td>1143.000000</td>\n",
       "      <td>1143.000000</td>\n",
       "      <td>1143.000000</td>\n",
       "      <td>1143.000000</td>\n",
       "      <td>1143.000000</td>\n",
       "      <td>1143.000000</td>\n",
       "      <td>1143.000000</td>\n",
       "      <td>1143.000000</td>\n",
       "    </tr>\n",
       "    <tr>\n",
       "      <th>mean</th>\n",
       "      <td>8.311111</td>\n",
       "      <td>0.531339</td>\n",
       "      <td>0.268364</td>\n",
       "      <td>2.532152</td>\n",
       "      <td>0.086933</td>\n",
       "      <td>15.615486</td>\n",
       "      <td>45.914698</td>\n",
       "      <td>0.996730</td>\n",
       "      <td>3.311015</td>\n",
       "      <td>0.657708</td>\n",
       "      <td>10.442111</td>\n",
       "      <td>5.657043</td>\n",
       "      <td>804.969379</td>\n",
       "    </tr>\n",
       "    <tr>\n",
       "      <th>std</th>\n",
       "      <td>1.747595</td>\n",
       "      <td>0.179633</td>\n",
       "      <td>0.196686</td>\n",
       "      <td>1.355917</td>\n",
       "      <td>0.047267</td>\n",
       "      <td>10.250486</td>\n",
       "      <td>32.782130</td>\n",
       "      <td>0.001925</td>\n",
       "      <td>0.156664</td>\n",
       "      <td>0.170399</td>\n",
       "      <td>1.082196</td>\n",
       "      <td>0.805824</td>\n",
       "      <td>463.997116</td>\n",
       "    </tr>\n",
       "    <tr>\n",
       "      <th>min</th>\n",
       "      <td>4.600000</td>\n",
       "      <td>0.120000</td>\n",
       "      <td>0.000000</td>\n",
       "      <td>0.900000</td>\n",
       "      <td>0.012000</td>\n",
       "      <td>1.000000</td>\n",
       "      <td>6.000000</td>\n",
       "      <td>0.990070</td>\n",
       "      <td>2.740000</td>\n",
       "      <td>0.330000</td>\n",
       "      <td>8.400000</td>\n",
       "      <td>3.000000</td>\n",
       "      <td>0.000000</td>\n",
       "    </tr>\n",
       "    <tr>\n",
       "      <th>25%</th>\n",
       "      <td>7.100000</td>\n",
       "      <td>0.392500</td>\n",
       "      <td>0.090000</td>\n",
       "      <td>1.900000</td>\n",
       "      <td>0.070000</td>\n",
       "      <td>7.000000</td>\n",
       "      <td>21.000000</td>\n",
       "      <td>0.995570</td>\n",
       "      <td>3.205000</td>\n",
       "      <td>0.550000</td>\n",
       "      <td>9.500000</td>\n",
       "      <td>5.000000</td>\n",
       "      <td>411.000000</td>\n",
       "    </tr>\n",
       "    <tr>\n",
       "      <th>50%</th>\n",
       "      <td>7.900000</td>\n",
       "      <td>0.520000</td>\n",
       "      <td>0.250000</td>\n",
       "      <td>2.200000</td>\n",
       "      <td>0.079000</td>\n",
       "      <td>13.000000</td>\n",
       "      <td>37.000000</td>\n",
       "      <td>0.996680</td>\n",
       "      <td>3.310000</td>\n",
       "      <td>0.620000</td>\n",
       "      <td>10.200000</td>\n",
       "      <td>6.000000</td>\n",
       "      <td>794.000000</td>\n",
       "    </tr>\n",
       "    <tr>\n",
       "      <th>75%</th>\n",
       "      <td>9.100000</td>\n",
       "      <td>0.640000</td>\n",
       "      <td>0.420000</td>\n",
       "      <td>2.600000</td>\n",
       "      <td>0.090000</td>\n",
       "      <td>21.000000</td>\n",
       "      <td>61.000000</td>\n",
       "      <td>0.997845</td>\n",
       "      <td>3.400000</td>\n",
       "      <td>0.730000</td>\n",
       "      <td>11.100000</td>\n",
       "      <td>6.000000</td>\n",
       "      <td>1209.500000</td>\n",
       "    </tr>\n",
       "    <tr>\n",
       "      <th>max</th>\n",
       "      <td>15.900000</td>\n",
       "      <td>1.580000</td>\n",
       "      <td>1.000000</td>\n",
       "      <td>15.500000</td>\n",
       "      <td>0.611000</td>\n",
       "      <td>68.000000</td>\n",
       "      <td>289.000000</td>\n",
       "      <td>1.003690</td>\n",
       "      <td>4.010000</td>\n",
       "      <td>2.000000</td>\n",
       "      <td>14.900000</td>\n",
       "      <td>8.000000</td>\n",
       "      <td>1597.000000</td>\n",
       "    </tr>\n",
       "  </tbody>\n",
       "</table>\n",
       "</div>"
      ],
      "text/plain": [
       "       fixed acidity  volatile acidity  citric acid  residual sugar  \\\n",
       "count    1143.000000       1143.000000  1143.000000     1143.000000   \n",
       "mean        8.311111          0.531339     0.268364        2.532152   \n",
       "std         1.747595          0.179633     0.196686        1.355917   \n",
       "min         4.600000          0.120000     0.000000        0.900000   \n",
       "25%         7.100000          0.392500     0.090000        1.900000   \n",
       "50%         7.900000          0.520000     0.250000        2.200000   \n",
       "75%         9.100000          0.640000     0.420000        2.600000   \n",
       "max        15.900000          1.580000     1.000000       15.500000   \n",
       "\n",
       "         chlorides  free sulfur dioxide  total sulfur dioxide      density  \\\n",
       "count  1143.000000          1143.000000           1143.000000  1143.000000   \n",
       "mean      0.086933            15.615486             45.914698     0.996730   \n",
       "std       0.047267            10.250486             32.782130     0.001925   \n",
       "min       0.012000             1.000000              6.000000     0.990070   \n",
       "25%       0.070000             7.000000             21.000000     0.995570   \n",
       "50%       0.079000            13.000000             37.000000     0.996680   \n",
       "75%       0.090000            21.000000             61.000000     0.997845   \n",
       "max       0.611000            68.000000            289.000000     1.003690   \n",
       "\n",
       "                pH    sulphates      alcohol      quality           Id  \n",
       "count  1143.000000  1143.000000  1143.000000  1143.000000  1143.000000  \n",
       "mean      3.311015     0.657708    10.442111     5.657043   804.969379  \n",
       "std       0.156664     0.170399     1.082196     0.805824   463.997116  \n",
       "min       2.740000     0.330000     8.400000     3.000000     0.000000  \n",
       "25%       3.205000     0.550000     9.500000     5.000000   411.000000  \n",
       "50%       3.310000     0.620000    10.200000     6.000000   794.000000  \n",
       "75%       3.400000     0.730000    11.100000     6.000000  1209.500000  \n",
       "max       4.010000     2.000000    14.900000     8.000000  1597.000000  "
      ]
     },
     "execution_count": 5,
     "metadata": {},
     "output_type": "execute_result"
    }
   ],
   "source": [
    "dataset.describe()"
   ]
  },
  {
   "cell_type": "code",
   "execution_count": 7,
   "id": "8c9fe60b",
   "metadata": {},
   "outputs": [
    {
     "data": {
      "text/plain": [
       "array([5, 6, 7, 4, 8, 3], dtype=int64)"
      ]
     },
     "execution_count": 7,
     "metadata": {},
     "output_type": "execute_result"
    }
   ],
   "source": [
    "dataset['quality'].unique()"
   ]
  },
  {
   "cell_type": "code",
   "execution_count": 8,
   "id": "e6fca11d",
   "metadata": {},
   "outputs": [
    {
     "data": {
      "text/plain": [
       "quality\n",
       "3      6\n",
       "4     33\n",
       "5    483\n",
       "6    462\n",
       "7    143\n",
       "8     16\n",
       "Name: count, dtype: int64"
      ]
     },
     "execution_count": 8,
     "metadata": {},
     "output_type": "execute_result"
    }
   ],
   "source": [
    "dataset.quality.value_counts().sort_index()"
   ]
  },
  {
   "cell_type": "code",
   "execution_count": 9,
   "id": "f31f302a",
   "metadata": {},
   "outputs": [
    {
     "data": {
      "text/plain": [
       "<Axes: xlabel='quality', ylabel='count'>"
      ]
     },
     "execution_count": 9,
     "metadata": {},
     "output_type": "execute_result"
    },
    {
     "data": {
      "image/png": "[encoded data removed]",
      "text/plain": [
       "<Figure size 640x480 with 1 Axes>"
      ]
     },
     "metadata": {},
     "output_type": "display_data"
    }
   ],
   "source": [
    "sns.countplot(x='quality',data=dataset)"
   ]
  },
  {
   "cell_type": "code",
   "execution_count": 10,
   "id": "b4f24ed6",
   "metadata": {},
   "outputs": [
    {
     "data": {
      "text/plain": [
       "count    1143.000000\n",
       "mean       10.442111\n",
       "std         1.082196\n",
       "min         8.400000\n",
       "25%         9.500000\n",
       "50%        10.200000\n",
       "75%        11.100000\n",
       "max        14.900000\n",
       "Name: alcohol, dtype: float64"
      ]
     },
     "execution_count": 10,
     "metadata": {},
     "output_type": "execute_result"
    }
   ],
   "source": [
    "dataset['alcohol'].describe()"
   ]
  },
  {
   "cell_type": "code",
   "execution_count": 11,
   "id": "b458cbac",
   "metadata": {},
   "outputs": [
    {
     "data": {
      "text/plain": [
       "count    1143.000000\n",
       "mean        0.657708\n",
       "std         0.170399\n",
       "min         0.330000\n",
       "25%         0.550000\n",
       "50%         0.620000\n",
       "75%         0.730000\n",
       "max         2.000000\n",
       "Name: sulphates, dtype: float64"
      ]
     },
     "execution_count": 11,
     "metadata": {},
     "output_type": "execute_result"
    }
   ],
   "source": [
    "dataset['sulphates'].describe()"
   ]
  },
  {
   "cell_type": "code",
   "execution_count": 12,
   "id": "26eca151",
   "metadata": {},
   "outputs": [
    {
     "data": {
      "text/plain": [
       "count    1143.000000\n",
       "mean        0.268364\n",
       "std         0.196686\n",
       "min         0.000000\n",
       "25%         0.090000\n",
       "50%         0.250000\n",
       "75%         0.420000\n",
       "max         1.000000\n",
       "Name: citric acid, dtype: float64"
      ]
     },
     "execution_count": 12,
     "metadata": {},
     "output_type": "execute_result"
    }
   ],
   "source": [
    "dataset['citric acid'].describe()"
   ]
  },
  {
   "cell_type": "code",
   "execution_count": 13,
   "id": "8cfa76a5",
   "metadata": {},
   "outputs": [
    {
     "data": {
      "text/plain": [
       "count    1143.000000\n",
       "mean        8.311111\n",
       "std         1.747595\n",
       "min         4.600000\n",
       "25%         7.100000\n",
       "50%         7.900000\n",
       "75%         9.100000\n",
       "max        15.900000\n",
       "Name: fixed acidity, dtype: float64"
      ]
     },
     "execution_count": 13,
     "metadata": {},
     "output_type": "execute_result"
    }
   ],
   "source": [
    "dataset['fixed acidity'].describe()"
   ]
  },
  {
   "cell_type": "code",
   "execution_count": 14,
   "id": "99cdd9ca",
   "metadata": {},
   "outputs": [
    {
     "data": {
      "text/plain": [
       "count    1143.000000\n",
       "mean        2.532152\n",
       "std         1.355917\n",
       "min         0.900000\n",
       "25%         1.900000\n",
       "50%         2.200000\n",
       "75%         2.600000\n",
       "max        15.500000\n",
       "Name: residual sugar, dtype: float64"
      ]
     },
     "execution_count": 14,
     "metadata": {},
     "output_type": "execute_result"
    }
   ],
   "source": [
    "dataset['residual sugar'].describe()"
   ]
  },
  {
   "cell_type": "code",
   "execution_count": 15,
   "id": "0a5d00d5",
   "metadata": {},
   "outputs": [
    {
     "name": "stdout",
     "output_type": "stream",
     "text": [
      "fixed acidity             2.000000\n",
      "volatile acidity          0.247500\n",
      "citric acid               0.330000\n",
      "residual sugar            0.700000\n",
      "chlorides                 0.020000\n",
      "free sulfur dioxide      14.000000\n",
      "total sulfur dioxide     40.000000\n",
      "density                   0.002275\n",
      "pH                        0.195000\n",
      "sulphates                 0.180000\n",
      "alcohol                   1.600000\n",
      "quality                   1.000000\n",
      "Id                      798.500000\n",
      "dtype: float64\n"
     ]
    }
   ],
   "source": [
    "Q1=dataset.quantile(0.25)\n",
    "Q3=dataset.quantile(0.75)\n",
    "IQR=Q3-Q1\n",
    "print(IQR)"
   ]
  },
  {
   "cell_type": "code",
   "execution_count": 16,
   "id": "7a4d5662",
   "metadata": {},
   "outputs": [
    {
     "name": "stdout",
     "output_type": "stream",
     "text": [
      "      fixed acidity  volatile acidity  citric acid  residual sugar  chlorides  \\\n",
      "0             False             False        False           False      False   \n",
      "1             False             False        False           False      False   \n",
      "2             False             False        False           False      False   \n",
      "3             False             False        False           False      False   \n",
      "4             False             False        False           False      False   \n",
      "...             ...               ...          ...             ...        ...   \n",
      "1138          False             False        False           False      False   \n",
      "1139          False             False        False           False      False   \n",
      "1140          False             False        False           False      False   \n",
      "1141          False             False        False           False      False   \n",
      "1142          False             False        False           False      False   \n",
      "\n",
      "      free sulfur dioxide  total sulfur dioxide  density     pH  sulphates  \\\n",
      "0                   False                 False    False  False      False   \n",
      "1                   False                 False    False  False      False   \n",
      "2                   False                 False    False  False      False   \n",
      "3                   False                 False    False  False      False   \n",
      "4                   False                 False    False  False      False   \n",
      "...                   ...                   ...      ...    ...        ...   \n",
      "1138                False                 False    False  False      False   \n",
      "1139                False                 False    False  False      False   \n",
      "1140                False                 False    False  False      False   \n",
      "1141                False                 False    False  False      False   \n",
      "1142                False                 False    False  False      False   \n",
      "\n",
      "      alcohol  quality     Id  \n",
      "0       False    False  False  \n",
      "1       False    False  False  \n",
      "2       False    False  False  \n",
      "3       False    False  False  \n",
      "4       False    False  False  \n",
      "...       ...      ...    ...  \n",
      "1138    False    False  False  \n",
      "1139    False    False  False  \n",
      "1140    False    False  False  \n",
      "1141    False    False  False  \n",
      "1142    False    False  False  \n",
      "\n",
      "[1143 rows x 13 columns]\n"
     ]
    }
   ],
   "source": [
    "#The part of data with False means their values are valid and True means the value is an outliers\n",
    "outliers = (dataset < (Q1 - 1.5 * IQR)) | (dataset > (Q3 + 1.5 * IQR))\n",
    "print(outliers)"
   ]
  },
  {
   "cell_type": "code",
   "execution_count": 17,
   "id": "f3a3c1f3",
   "metadata": {},
   "outputs": [
    {
     "data": {
      "text/plain": [
       "(834, 13)"
      ]
     },
     "execution_count": 17,
     "metadata": {},
     "output_type": "execute_result"
    }
   ],
   "source": [
    "dataset_out=dataset[~((dataset<(Q1-1.5*IQR))|(dataset>(Q3+1.5*IQR))).any(axis=1)]\n",
    "dataset_out.shape"
   ]
  },
  {
   "cell_type": "code",
   "execution_count": 18,
   "id": "27e79c53",
   "metadata": {},
   "outputs": [
    {
     "data": {
      "text/html": [
       "<div>\n",
       "<style scoped>\n",
       "    .dataframe tbody tr th:only-of-type {\n",
       "        vertical-align: middle;\n",
       "    }\n",
       "\n",
       "    .dataframe tbody tr th {\n",
       "        vertical-align: top;\n",
       "    }\n",
       "\n",
       "    .dataframe thead th {\n",
       "        text-align: right;\n",
       "    }\n",
       "</style>\n",
       "<table border=\"1\" class=\"dataframe\">\n",
       "  <thead>\n",
       "    <tr style=\"text-align: right;\">\n",
       "      <th></th>\n",
       "      <th>fixed acidity</th>\n",
       "      <th>volatile acidity</th>\n",
       "      <th>citric acid</th>\n",
       "      <th>residual sugar</th>\n",
       "      <th>chlorides</th>\n",
       "      <th>free sulfur dioxide</th>\n",
       "      <th>total sulfur dioxide</th>\n",
       "      <th>density</th>\n",
       "      <th>pH</th>\n",
       "      <th>sulphates</th>\n",
       "      <th>alcohol</th>\n",
       "      <th>quality</th>\n",
       "      <th>Id</th>\n",
       "    </tr>\n",
       "  </thead>\n",
       "  <tbody>\n",
       "    <tr>\n",
       "      <th>0</th>\n",
       "      <td>7.4</td>\n",
       "      <td>0.700</td>\n",
       "      <td>0.00</td>\n",
       "      <td>1.9</td>\n",
       "      <td>0.076</td>\n",
       "      <td>11.0</td>\n",
       "      <td>34.0</td>\n",
       "      <td>0.99780</td>\n",
       "      <td>3.51</td>\n",
       "      <td>0.56</td>\n",
       "      <td>9.4</td>\n",
       "      <td>5</td>\n",
       "      <td>0</td>\n",
       "    </tr>\n",
       "    <tr>\n",
       "      <th>1</th>\n",
       "      <td>7.8</td>\n",
       "      <td>0.880</td>\n",
       "      <td>0.00</td>\n",
       "      <td>2.6</td>\n",
       "      <td>0.098</td>\n",
       "      <td>25.0</td>\n",
       "      <td>67.0</td>\n",
       "      <td>0.99680</td>\n",
       "      <td>3.20</td>\n",
       "      <td>0.68</td>\n",
       "      <td>9.8</td>\n",
       "      <td>5</td>\n",
       "      <td>1</td>\n",
       "    </tr>\n",
       "    <tr>\n",
       "      <th>2</th>\n",
       "      <td>7.8</td>\n",
       "      <td>0.760</td>\n",
       "      <td>0.04</td>\n",
       "      <td>2.3</td>\n",
       "      <td>0.092</td>\n",
       "      <td>15.0</td>\n",
       "      <td>54.0</td>\n",
       "      <td>0.99700</td>\n",
       "      <td>3.26</td>\n",
       "      <td>0.65</td>\n",
       "      <td>9.8</td>\n",
       "      <td>5</td>\n",
       "      <td>2</td>\n",
       "    </tr>\n",
       "    <tr>\n",
       "      <th>3</th>\n",
       "      <td>11.2</td>\n",
       "      <td>0.280</td>\n",
       "      <td>0.56</td>\n",
       "      <td>1.9</td>\n",
       "      <td>0.075</td>\n",
       "      <td>17.0</td>\n",
       "      <td>60.0</td>\n",
       "      <td>0.99800</td>\n",
       "      <td>3.16</td>\n",
       "      <td>0.58</td>\n",
       "      <td>9.8</td>\n",
       "      <td>6</td>\n",
       "      <td>3</td>\n",
       "    </tr>\n",
       "    <tr>\n",
       "      <th>4</th>\n",
       "      <td>7.4</td>\n",
       "      <td>0.700</td>\n",
       "      <td>0.00</td>\n",
       "      <td>1.9</td>\n",
       "      <td>0.076</td>\n",
       "      <td>11.0</td>\n",
       "      <td>34.0</td>\n",
       "      <td>0.99780</td>\n",
       "      <td>3.51</td>\n",
       "      <td>0.56</td>\n",
       "      <td>9.4</td>\n",
       "      <td>5</td>\n",
       "      <td>4</td>\n",
       "    </tr>\n",
       "    <tr>\n",
       "      <th>...</th>\n",
       "      <td>...</td>\n",
       "      <td>...</td>\n",
       "      <td>...</td>\n",
       "      <td>...</td>\n",
       "      <td>...</td>\n",
       "      <td>...</td>\n",
       "      <td>...</td>\n",
       "      <td>...</td>\n",
       "      <td>...</td>\n",
       "      <td>...</td>\n",
       "      <td>...</td>\n",
       "      <td>...</td>\n",
       "      <td>...</td>\n",
       "    </tr>\n",
       "    <tr>\n",
       "      <th>1138</th>\n",
       "      <td>6.3</td>\n",
       "      <td>0.510</td>\n",
       "      <td>0.13</td>\n",
       "      <td>2.3</td>\n",
       "      <td>0.076</td>\n",
       "      <td>29.0</td>\n",
       "      <td>40.0</td>\n",
       "      <td>0.99574</td>\n",
       "      <td>3.42</td>\n",
       "      <td>0.75</td>\n",
       "      <td>11.0</td>\n",
       "      <td>6</td>\n",
       "      <td>1592</td>\n",
       "    </tr>\n",
       "    <tr>\n",
       "      <th>1139</th>\n",
       "      <td>6.8</td>\n",
       "      <td>0.620</td>\n",
       "      <td>0.08</td>\n",
       "      <td>1.9</td>\n",
       "      <td>0.068</td>\n",
       "      <td>28.0</td>\n",
       "      <td>38.0</td>\n",
       "      <td>0.99651</td>\n",
       "      <td>3.42</td>\n",
       "      <td>0.82</td>\n",
       "      <td>9.5</td>\n",
       "      <td>6</td>\n",
       "      <td>1593</td>\n",
       "    </tr>\n",
       "    <tr>\n",
       "      <th>1140</th>\n",
       "      <td>6.2</td>\n",
       "      <td>0.600</td>\n",
       "      <td>0.08</td>\n",
       "      <td>2.0</td>\n",
       "      <td>0.090</td>\n",
       "      <td>32.0</td>\n",
       "      <td>44.0</td>\n",
       "      <td>0.99490</td>\n",
       "      <td>3.45</td>\n",
       "      <td>0.58</td>\n",
       "      <td>10.5</td>\n",
       "      <td>5</td>\n",
       "      <td>1594</td>\n",
       "    </tr>\n",
       "    <tr>\n",
       "      <th>1141</th>\n",
       "      <td>5.9</td>\n",
       "      <td>0.550</td>\n",
       "      <td>0.10</td>\n",
       "      <td>2.2</td>\n",
       "      <td>0.062</td>\n",
       "      <td>39.0</td>\n",
       "      <td>51.0</td>\n",
       "      <td>0.99512</td>\n",
       "      <td>3.52</td>\n",
       "      <td>0.76</td>\n",
       "      <td>11.2</td>\n",
       "      <td>6</td>\n",
       "      <td>1595</td>\n",
       "    </tr>\n",
       "    <tr>\n",
       "      <th>1142</th>\n",
       "      <td>5.9</td>\n",
       "      <td>0.645</td>\n",
       "      <td>0.12</td>\n",
       "      <td>2.0</td>\n",
       "      <td>0.075</td>\n",
       "      <td>32.0</td>\n",
       "      <td>44.0</td>\n",
       "      <td>0.99547</td>\n",
       "      <td>3.57</td>\n",
       "      <td>0.71</td>\n",
       "      <td>10.2</td>\n",
       "      <td>5</td>\n",
       "      <td>1597</td>\n",
       "    </tr>\n",
       "  </tbody>\n",
       "</table>\n",
       "<p>834 rows × 13 columns</p>\n",
       "</div>"
      ],
      "text/plain": [
       "      fixed acidity  volatile acidity  citric acid  residual sugar  chlorides  \\\n",
       "0               7.4             0.700         0.00             1.9      0.076   \n",
       "1               7.8             0.880         0.00             2.6      0.098   \n",
       "2               7.8             0.760         0.04             2.3      0.092   \n",
       "3              11.2             0.280         0.56             1.9      0.075   \n",
       "4               7.4             0.700         0.00             1.9      0.076   \n",
       "...             ...               ...          ...             ...        ...   \n",
       "1138            6.3             0.510         0.13             2.3      0.076   \n",
       "1139            6.8             0.620         0.08             1.9      0.068   \n",
       "1140            6.2             0.600         0.08             2.0      0.090   \n",
       "1141            5.9             0.550         0.10             2.2      0.062   \n",
       "1142            5.9             0.645         0.12             2.0      0.075   \n",
       "\n",
       "      free sulfur dioxide  total sulfur dioxide  density    pH  sulphates  \\\n",
       "0                    11.0                  34.0  0.99780  3.51       0.56   \n",
       "1                    25.0                  67.0  0.99680  3.20       0.68   \n",
       "2                    15.0                  54.0  0.99700  3.26       0.65   \n",
       "3                    17.0                  60.0  0.99800  3.16       0.58   \n",
       "4                    11.0                  34.0  0.99780  3.51       0.56   \n",
       "...                   ...                   ...      ...   ...        ...   \n",
       "1138                 29.0                  40.0  0.99574  3.42       0.75   \n",
       "1139                 28.0                  38.0  0.99651  3.42       0.82   \n",
       "1140                 32.0                  44.0  0.99490  3.45       0.58   \n",
       "1141                 39.0                  51.0  0.99512  3.52       0.76   \n",
       "1142                 32.0                  44.0  0.99547  3.57       0.71   \n",
       "\n",
       "      alcohol  quality    Id  \n",
       "0         9.4        5     0  \n",
       "1         9.8        5     1  \n",
       "2         9.8        5     2  \n",
       "3         9.8        6     3  \n",
       "4         9.4        5     4  \n",
       "...       ...      ...   ...  \n",
       "1138     11.0        6  1592  \n",
       "1139      9.5        6  1593  \n",
       "1140     10.5        5  1594  \n",
       "1141     11.2        6  1595  \n",
       "1142     10.2        5  1597  \n",
       "\n",
       "[834 rows x 13 columns]"
      ]
     },
     "execution_count": 18,
     "metadata": {},
     "output_type": "execute_result"
    }
   ],
   "source": [
    "dataset_out"
   ]
  },
  {
   "cell_type": "code",
   "execution_count": 19,
   "id": "752b17b7",
   "metadata": {},
   "outputs": [
    {
     "name": "stdout",
     "output_type": "stream",
     "text": [
      "fixed acidity           0.117844\n",
      "volatile acidity       -0.356948\n",
      "citric acid             0.228060\n",
      "residual sugar         -0.014981\n",
      "chlorides              -0.190625\n",
      "free sulfur dioxide    -0.001257\n",
      "total sulfur dioxide   -0.209743\n",
      "density                -0.208410\n",
      "pH                     -0.042515\n",
      "sulphates               0.417164\n",
      "alcohol                 0.495364\n",
      "Id                      0.120168\n",
      "Name: quality, dtype: float64\n"
     ]
    }
   ],
   "source": [
    "correlations=dataset_out.corr()['quality'].drop('quality')\n",
    "print(correlations)"
   ]
  },
  {
   "cell_type": "code",
   "execution_count": 20,
   "id": "ce2b13cf",
   "metadata": {},
   "outputs": [
    {
     "data": {
      "image/png": "[encoded data removed]",
      "text/plain": [
       "<Figure size 640x480 with 2 Axes>"
      ]
     },
     "metadata": {},
     "output_type": "display_data"
    }
   ],
   "source": [
    "sns.heatmap(dataset.corr())\n",
    "plt.show()"
   ]
  },
  {
   "cell_type": "code",
   "execution_count": 21,
   "id": "efd3b54a",
   "metadata": {},
   "outputs": [
    {
     "data": {
      "text/plain": [
       "alcohol                 0.495364\n",
       "sulphates               0.417164\n",
       "citric acid             0.228060\n",
       "Id                      0.120168\n",
       "fixed acidity           0.117844\n",
       "free sulfur dioxide    -0.001257\n",
       "residual sugar         -0.014981\n",
       "pH                     -0.042515\n",
       "chlorides              -0.190625\n",
       "density                -0.208410\n",
       "total sulfur dioxide   -0.209743\n",
       "volatile acidity       -0.356948\n",
       "Name: quality, dtype: float64"
      ]
     },
     "execution_count": 21,
     "metadata": {},
     "output_type": "execute_result"
    }
   ],
   "source": [
    "#impact of various factors on quality\n",
    "correlations.sort_values(ascending=False)"
   ]
  },
  {
   "cell_type": "code",
   "execution_count": 22,
   "id": "a85a3a22",
   "metadata": {},
   "outputs": [
    {
     "data": {
      "text/plain": [
       "alcohol                 0.495364\n",
       "sulphates               0.417164\n",
       "citric acid             0.228060\n",
       "Id                      0.120168\n",
       "fixed acidity           0.117844\n",
       "free sulfur dioxide    -0.001257\n",
       "residual sugar         -0.014981\n",
       "pH                     -0.042515\n",
       "chlorides              -0.190625\n",
       "density                -0.208410\n",
       "total sulfur dioxide   -0.209743\n",
       "volatile acidity       -0.356948\n",
       "Name: quality, dtype: float64"
      ]
     },
     "execution_count": 22,
     "metadata": {},
     "output_type": "execute_result"
    }
   ],
   "source": [
    "correlations.sort_values(ascending=False)"
   ]
  },
  {
   "cell_type": "code",
   "execution_count": 23,
   "id": "b4787a34",
   "metadata": {},
   "outputs": [
    {
     "data": {
      "text/plain": [
       "alcohol                 0.495364\n",
       "sulphates               0.417164\n",
       "citric acid             0.228060\n",
       "Id                      0.120168\n",
       "fixed acidity           0.117844\n",
       "free sulfur dioxide    -0.001257\n",
       "residual sugar         -0.014981\n",
       "pH                     -0.042515\n",
       "chlorides              -0.190625\n",
       "density                -0.208410\n",
       "total sulfur dioxide   -0.209743\n",
       "volatile acidity       -0.356948\n",
       "Name: quality, dtype: float64"
      ]
     },
     "execution_count": 23,
     "metadata": {},
     "output_type": "execute_result"
    }
   ],
   "source": [
    "correlations=dataset_out.corr()['quality'].drop('quality')\n",
    "correlations.sort_values(ascending=False)"
   ]
  },
  {
   "cell_type": "code",
   "execution_count": 24,
   "id": "94f626f9",
   "metadata": {},
   "outputs": [],
   "source": [
    "def get_features(correlation_threshold):\n",
    "    abs_corrs=correlations.abs()\n",
    "    high_correlations=abs_corrs[abs_corrs>correlation_threshold].index.values.tolist()\n",
    "    return high_correlations"
   ]
  },
  {
   "cell_type": "code",
   "execution_count": 25,
   "id": "53776bb5",
   "metadata": {},
   "outputs": [
    {
     "name": "stdout",
     "output_type": "stream",
     "text": [
      "['fixed acidity', 'volatile acidity', 'citric acid', 'chlorides', 'total sulfur dioxide', 'density', 'sulphates', 'alcohol', 'Id']\n"
     ]
    }
   ],
   "source": [
    "features=get_features(0.05)\n",
    "print(features)\n",
    "x=dataset_out[features]\n",
    "y=dataset_out['quality']"
   ]
  },
  {
   "cell_type": "code",
   "execution_count": 26,
   "id": "d8450b4f",
   "metadata": {},
   "outputs": [
    {
     "data": {
      "text/plain": [
       "[Text(0.5, 0, 'Quality'),\n",
       " Text(0, 0.5, 'Alcohol'),\n",
       " Text(0.5, 1.0, 'Alcohol % in different samples')]"
      ]
     },
     "execution_count": 26,
     "metadata": {},
     "output_type": "execute_result"
    },
    {
     "data": {
      "image/png": "[encoded data removed]",
      "text/plain": [
       "<Figure size 640x480 with 1 Axes>"
      ]
     },
     "metadata": {},
     "output_type": "display_data"
    }
   ],
   "source": [
    "#finding number of outiers we have in our dataset with properties\n",
    "bx=sns.boxplot(x='quality',y='alcohol',data=dataset)\n",
    "bx.set(xlabel='Quality',ylabel='Alcohol',title='Alcohol % in different samples')"
   ]
  },
  {
   "cell_type": "code",
   "execution_count": 27,
   "id": "74d3eade",
   "metadata": {},
   "outputs": [
    {
     "data": {
      "text/plain": [
       "[Text(0.5, 0, 'Quality'),\n",
       " Text(0, 0.5, 'Citric Acid'),\n",
       " Text(0.5, 1.0, 'Citric Acid % in different samples')]"
      ]
     },
     "execution_count": 27,
     "metadata": {},
     "output_type": "execute_result"
    },
    {
     "data": {
      "image/png": "[encoded data removed]",
      "text/plain": [
       "<Figure size 640x480 with 1 Axes>"
      ]
     },
     "metadata": {},
     "output_type": "display_data"
    }
   ],
   "source": [
    "bx=sns.boxplot(x='quality',y='citric acid',data=dataset)\n",
    "bx.set(xlabel='Quality',ylabel='Citric Acid',title='Citric Acid % in different samples')"
   ]
  },
  {
   "cell_type": "code",
   "execution_count": 28,
   "id": "88160823",
   "metadata": {},
   "outputs": [
    {
     "name": "stdout",
     "output_type": "stream",
     "text": [
      "      fixed acidity  volatile acidity  citric acid  chlorides  \\\n",
      "0               7.4             0.700         0.00      0.076   \n",
      "1               7.8             0.880         0.00      0.098   \n",
      "2               7.8             0.760         0.04      0.092   \n",
      "3              11.2             0.280         0.56      0.075   \n",
      "4               7.4             0.700         0.00      0.076   \n",
      "...             ...               ...          ...        ...   \n",
      "1138            6.3             0.510         0.13      0.076   \n",
      "1139            6.8             0.620         0.08      0.068   \n",
      "1140            6.2             0.600         0.08      0.090   \n",
      "1141            5.9             0.550         0.10      0.062   \n",
      "1142            5.9             0.645         0.12      0.075   \n",
      "\n",
      "      total sulfur dioxide  density  sulphates  alcohol    Id  \n",
      "0                     34.0  0.99780       0.56      9.4     0  \n",
      "1                     67.0  0.99680       0.68      9.8     1  \n",
      "2                     54.0  0.99700       0.65      9.8     2  \n",
      "3                     60.0  0.99800       0.58      9.8     3  \n",
      "4                     34.0  0.99780       0.56      9.4     4  \n",
      "...                    ...      ...        ...      ...   ...  \n",
      "1138                  40.0  0.99574       0.75     11.0  1592  \n",
      "1139                  38.0  0.99651       0.82      9.5  1593  \n",
      "1140                  44.0  0.99490       0.58     10.5  1594  \n",
      "1141                  51.0  0.99512       0.76     11.2  1595  \n",
      "1142                  44.0  0.99547       0.71     10.2  1597  \n",
      "\n",
      "[834 rows x 9 columns]\n"
     ]
    }
   ],
   "source": [
    "print(x)"
   ]
  },
  {
   "cell_type": "code",
   "execution_count": 29,
   "id": "bd953556",
   "metadata": {},
   "outputs": [
    {
     "name": "stdout",
     "output_type": "stream",
     "text": [
      "0       5\n",
      "1       5\n",
      "2       5\n",
      "3       6\n",
      "4       5\n",
      "       ..\n",
      "1138    6\n",
      "1139    6\n",
      "1140    5\n",
      "1141    6\n",
      "1142    5\n",
      "Name: quality, Length: 834, dtype: int64\n"
     ]
    }
   ],
   "source": [
    "#Quality is plotted using variable y\n",
    "print(y)"
   ]
  },
  {
   "cell_type": "code",
   "execution_count": 30,
   "id": "4bcf7da6",
   "metadata": {},
   "outputs": [],
   "source": [
    "x_train,x_test,y_train,y_test=train_test_split(x,y,test_size=0.30,random_state=3)"
   ]
  },
  {
   "cell_type": "code",
   "execution_count": 31,
   "id": "2bc3b7e2",
   "metadata": {},
   "outputs": [
    {
     "data": {
      "text/plain": [
       "(251,)"
      ]
     },
     "execution_count": 31,
     "metadata": {},
     "output_type": "execute_result"
    }
   ],
   "source": [
    "y_test.shape"
   ]
  },
  {
   "cell_type": "code",
   "execution_count": 33,
   "id": "9f477527",
   "metadata": {},
   "outputs": [
    {
     "data": {
      "text/html": [
       "<style>#sk-container-id-1 {color: black;}#sk-container-id-1 pre{padding: 0;}#sk-container-id-1 div.sk-toggleable {background-color: white;}#sk-container-id-1 label.sk-toggleable__label {cursor: pointer;display: block;width: 100%;margin-bottom: 0;padding: 0.3em;box-sizing: border-box;text-align: center;}#sk-container-id-1 label.sk-toggleable__label-arrow:before {content: \"▸\";float: left;margin-right: 0.25em;color: #696969;}#sk-container-id-1 label.sk-toggleable__label-arrow:hover:before {color: black;}#sk-container-id-1 div.sk-estimator:hover label.sk-toggleable__label-arrow:before {color: black;}#sk-container-id-1 div.sk-toggleable__content {max-height: 0;max-width: 0;overflow: hidden;text-align: left;background-color: #f0f8ff;}#sk-container-id-1 div.sk-toggleable__content pre {margin: 0.2em;color: black;border-radius: 0.25em;background-color: #f0f8ff;}#sk-container-id-1 input.sk-toggleable__control:checked~div.sk-toggleable__content {max-height: 200px;max-width: 100%;overflow: auto;}#sk-container-id-1 input.sk-toggleable__control:checked~label.sk-toggleable__label-arrow:before {content: \"▾\";}#sk-container-id-1 div.sk-estimator input.sk-toggleable__control:checked~label.sk-toggleable__label {background-color: #d4ebff;}#sk-container-id-1 div.sk-label input.sk-toggleable__control:checked~label.sk-toggleable__label {background-color: #d4ebff;}#sk-container-id-1 input.sk-hidden--visually {border: 0;clip: rect(1px 1px 1px 1px);clip: rect(1px, 1px, 1px, 1px);height: 1px;margin: -1px;overflow: hidden;padding: 0;position: absolute;width: 1px;}#sk-container-id-1 div.sk-estimator {font-family: monospace;background-color: #f0f8ff;border: 1px dotted black;border-radius: 0.25em;box-sizing: border-box;margin-bottom: 0.5em;}#sk-container-id-1 div.sk-estimator:hover {background-color: #d4ebff;}#sk-container-id-1 div.sk-parallel-item::after {content: \"\";width: 100%;border-bottom: 1px solid gray;flex-grow: 1;}#sk-container-id-1 div.sk-label:hover label.sk-toggleable__label {background-color: #d4ebff;}#sk-container-id-1 div.sk-serial::before {content: \"\";position: absolute;border-left: 1px solid gray;box-sizing: border-box;top: 0;bottom: 0;left: 50%;z-index: 0;}#sk-container-id-1 div.sk-serial {display: flex;flex-direction: column;align-items: center;background-color: white;padding-right: 0.2em;padding-left: 0.2em;position: relative;}#sk-container-id-1 div.sk-item {position: relative;z-index: 1;}#sk-container-id-1 div.sk-parallel {display: flex;align-items: stretch;justify-content: center;background-color: white;position: relative;}#sk-container-id-1 div.sk-item::before, #sk-container-id-1 div.sk-parallel-item::before {content: \"\";position: absolute;border-left: 1px solid gray;box-sizing: border-box;top: 0;bottom: 0;left: 50%;z-index: -1;}#sk-container-id-1 div.sk-parallel-item {display: flex;flex-direction: column;z-index: 1;position: relative;background-color: white;}#sk-container-id-1 div.sk-parallel-item:first-child::after {align-self: flex-end;width: 50%;}#sk-container-id-1 div.sk-parallel-item:last-child::after {align-self: flex-start;width: 50%;}#sk-container-id-1 div.sk-parallel-item:only-child::after {width: 0;}#sk-container-id-1 div.sk-dashed-wrapped {border: 1px dashed gray;margin: 0 0.4em 0.5em 0.4em;box-sizing: border-box;padding-bottom: 0.4em;background-color: white;}#sk-container-id-1 div.sk-label label {font-family: monospace;font-weight: bold;display: inline-block;line-height: 1.2em;}#sk-container-id-1 div.sk-label-container {text-align: center;}#sk-container-id-1 div.sk-container {/* jupyter's `normalize.less` sets `[hidden] { display: none; }` but bootstrap.min.css set `[hidden] { display: none !important; }` so we also need the `!important` here to be able to override the default hidden behavior on the sphinx rendered scikit-learn.org. See: https://github.com/scikit-learn/scikit-learn/issues/21755 */display: inline-block !important;position: relative;}#sk-container-id-1 div.sk-text-repr-fallback {display: none;}</style><div id=\"sk-container-id-1\" class=\"sk-top-container\"><div class=\"sk-text-repr-fallback\"><pre>LinearRegression()</pre><b>In a Jupyter environment, please rerun this cell to show the HTML representation or trust the notebook. <br />On GitHub, the HTML representation is unable to render, please try loading this page with nbviewer.org.</b></div><div class=\"sk-container\" hidden><div class=\"sk-item\"><div class=\"sk-estimator sk-toggleable\"><input class=\"sk-toggleable__control sk-hidden--visually\" id=\"sk-estimator-id-1\" type=\"checkbox\" checked><label for=\"sk-estimator-id-1\" class=\"sk-toggleable__label sk-toggleable__label-arrow\">LinearRegression</label><div class=\"sk-toggleable__content\"><pre>LinearRegression()</pre></div></div></div></div></div>"
      ],
      "text/plain": [
       "LinearRegression()"
      ]
     },
     "execution_count": 33,
     "metadata": {},
     "output_type": "execute_result"
    }
   ],
   "source": [
    "regressor=LinearRegression()\n",
    "regressor.fit(x_train,y_train)"
   ]
  },
  {
   "cell_type": "code",
   "execution_count": 34,
   "id": "490d200b",
   "metadata": {},
   "outputs": [
    {
     "data": {
      "text/plain": [
       "60.3816931418934"
      ]
     },
     "execution_count": 34,
     "metadata": {},
     "output_type": "execute_result"
    }
   ],
   "source": [
    "#to retrieve the intercept\n",
    "regressor.intercept_"
   ]
  },
  {
   "cell_type": "code",
   "execution_count": 35,
   "id": "39ece789",
   "metadata": {},
   "outputs": [
    {
     "data": {
      "text/plain": [
       "array([ 5.92403427e-02, -6.43627871e-01,  4.45251603e-02, -5.23066142e-01,\n",
       "       -1.77223144e-03, -5.83912346e+01,  1.64246674e+00,  2.37384290e-01,\n",
       "       -9.34494049e-05])"
      ]
     },
     "execution_count": 35,
     "metadata": {},
     "output_type": "execute_result"
    }
   ],
   "source": [
    "#gives coefficients of the 10 features selected above\n",
    "regressor.coef_"
   ]
  },
  {
   "cell_type": "code",
   "execution_count": 36,
   "id": "13e9e12a",
   "metadata": {},
   "outputs": [
    {
     "data": {
      "text/plain": [
       "array([5.68004776, 5.81549859, 5.67459388, 6.23598433, 5.31966146,\n",
       "       5.24906974, 5.66485579, 5.45084624, 5.75058212, 5.47491384,\n",
       "       5.19525988, 5.94619237, 5.77560627, 5.23472751, 6.30526704,\n",
       "       6.11645251, 5.57561887, 5.80125866, 6.14509755, 6.53311134,\n",
       "       5.03972554, 5.30262498, 5.33822388, 5.55477634, 5.27786492,\n",
       "       5.03603731, 6.18170819, 5.4151824 , 5.56611578, 6.37765276,\n",
       "       5.61938887, 5.5242898 , 5.11171725, 5.53401568, 5.99529956,\n",
       "       5.78161755, 6.65572919, 5.5029931 , 5.35004327, 5.46880273,\n",
       "       4.98599885, 5.42747825, 5.43795734, 6.09488125, 5.96689294,\n",
       "       5.10576814, 5.06405661, 5.91628853, 5.04463314, 5.22255482,\n",
       "       5.33855863, 5.80545902, 5.13170477, 5.11707834, 5.45941142,\n",
       "       6.12179117, 5.72017198, 6.19859996, 6.58717431, 5.44335737,\n",
       "       5.04625841, 5.79622546, 5.18736627, 5.33837173, 5.91666233,\n",
       "       6.45329166, 5.83820483, 5.43024155, 6.34187912, 5.84752341,\n",
       "       6.44157797, 5.55024328, 5.06630645, 5.40553214, 6.1984743 ,\n",
       "       5.33898655, 5.19219209, 5.38749673, 6.1531145 , 6.2429395 ,\n",
       "       5.61503092, 5.26286259, 5.39379958, 4.94567483, 5.45125022,\n",
       "       5.71768803, 5.32220021, 6.04139586, 5.07358128, 5.3870432 ,\n",
       "       6.0976197 , 5.47872512, 5.57590681, 6.22496251, 6.05731472,\n",
       "       5.19950223, 5.15920301, 5.62756149, 5.56380993, 5.38528146,\n",
       "       5.54772382, 6.14375074, 5.33910749, 6.36696453, 5.18684355,\n",
       "       6.19648597, 5.35974014, 5.08388898, 6.19279094, 5.18660513,\n",
       "       6.00549532, 6.59468457, 5.43183162, 5.15901611, 5.8612013 ,\n",
       "       5.44408254, 5.99178331, 5.65874978, 5.79778833, 5.16813522,\n",
       "       5.21909898, 5.62884352, 5.65537373, 6.28072506, 5.92893175,\n",
       "       6.71291009, 5.53780858, 6.32041394, 6.05947502, 5.67467194,\n",
       "       5.30538261, 5.34726315, 5.28342724, 5.3156443 , 6.06332453,\n",
       "       5.94298629, 5.25129879, 5.39586631, 5.85603227, 5.48421008,\n",
       "       5.83552714, 5.37299581, 5.13983245, 5.64520614, 5.14586373,\n",
       "       5.03631766, 6.03493087, 5.35337955, 5.50346531, 5.12431704,\n",
       "       6.27775438, 6.32863221, 5.97658767, 5.48144115, 5.89201141,\n",
       "       5.56024314, 6.55278023, 5.78743092, 5.82452591, 6.63001534,\n",
       "       5.48248076, 6.16476193, 5.50212871, 6.16384088, 5.28308601,\n",
       "       5.52926425, 5.57555189, 6.27968938, 5.57886709, 5.13727001,\n",
       "       5.23349041, 5.65569376, 5.53263053, 5.55464025, 5.60054789,\n",
       "       5.45496959, 5.83899533, 5.69126432, 5.05943105, 6.19107925,\n",
       "       5.64511269, 5.20593168, 4.82307431, 5.9957548 , 5.54152439,\n",
       "       5.46344596, 5.97918643, 5.49616219, 5.09861841, 5.89074569,\n",
       "       5.40743698, 5.31601468, 6.34576168, 5.6746926 , 6.44886872,\n",
       "       4.94413763, 6.11954928, 5.50630318, 7.11305323, 5.07174655,\n",
       "       5.82471281, 6.40721288, 6.24217895, 5.76984792, 5.63990009,\n",
       "       5.17117658, 5.31690889, 5.40440647, 5.68184334, 5.22712202,\n",
       "       6.01382489, 5.4168106 , 5.53642754, 5.53244363, 5.71304839,\n",
       "       5.53606581, 5.22798   , 5.3527254 , 5.14862987, 5.24287217,\n",
       "       5.27925289, 5.91891324, 4.99034674, 5.28314689, 5.630254  ,\n",
       "       5.64444479, 6.10712275, 5.49728565, 6.30843502, 6.18105321,\n",
       "       5.5869123 , 5.20939259, 6.10406189, 5.13978118, 6.29999486,\n",
       "       5.75946433, 4.99347848, 5.27906599, 5.56422742, 5.17523576,\n",
       "       6.72202423, 5.21389471, 6.03272755, 5.54223289, 5.69286716,\n",
       "       5.14994307, 5.04561607, 5.85575192, 6.24438454, 5.66175448,\n",
       "       5.36280989, 5.38350068, 5.57200961, 5.19379344, 5.42825007,\n",
       "       5.71739021, 5.87079559, 6.9099245 , 5.66823325, 5.71653475,\n",
       "       6.25561969, 5.80104624, 5.04208871, 5.70542446, 5.94314083,\n",
       "       6.11626561, 4.69548679, 5.30224456, 5.63464363, 6.14741211,\n",
       "       5.5150827 , 5.4443689 , 5.26500274, 4.85966844, 6.35819526,\n",
       "       6.48537241, 6.19061201, 5.64120807, 5.2288901 , 5.60622192,\n",
       "       6.09442624, 5.90961146, 5.47209318, 5.50719319, 5.58547554,\n",
       "       6.23779589, 4.86497107, 6.45940964, 5.67174423, 5.48233924,\n",
       "       5.45468924, 5.63760305, 6.39643983, 6.08256547, 5.90550735,\n",
       "       5.82428483, 6.0066187 , 5.05447682, 5.57273564, 5.38265031,\n",
       "       5.29683362, 5.80637523, 5.23476348, 6.51518542, 6.47247185,\n",
       "       5.60671868, 5.48553232, 5.50332595, 6.18359186, 5.16412046,\n",
       "       5.57543197, 5.32331806, 6.01196058, 5.16499957, 6.29962106,\n",
       "       4.93344033, 5.98681093, 6.12452177, 5.69131603, 5.19280163,\n",
       "       5.20494947, 5.56036829, 6.0974328 , 5.15397646, 5.61819084,\n",
       "       5.18014155, 5.42817744, 5.59594197, 5.19311182, 5.55178633,\n",
       "       5.38826911, 4.93891745, 5.28854131, 5.80451205, 6.36117058,\n",
       "       5.59211076, 6.20728495, 5.68302159, 5.11716427, 5.80674903,\n",
       "       5.93713032, 5.13089362, 5.28214329, 5.6610888 , 5.78960775,\n",
       "       5.41826479, 5.04105756, 6.5982403 , 5.35904489, 5.15888147,\n",
       "       6.38780597, 5.49543723, 6.48699438, 5.0372411 , 5.84703707,\n",
       "       5.19563142, 5.47039085, 5.18717937, 5.53442391, 5.88538724,\n",
       "       5.69297953, 5.94023593, 6.21030376, 5.30207718, 5.16219577,\n",
       "       6.63951167, 5.88882288, 5.77954438, 5.53905251, 5.27002815,\n",
       "       5.38780417, 6.39498749, 5.63445673, 6.32309479, 5.60113211,\n",
       "       6.06968157, 5.47825876, 5.23228498, 5.64731833, 5.9220443 ,\n",
       "       6.47886785, 6.47209806, 6.08564566, 6.20820227, 6.40463352,\n",
       "       5.400189  , 5.33131124, 5.67221148, 5.92213775, 5.17370491,\n",
       "       5.85138369, 5.18578338, 5.42784789, 5.15425681, 5.50812602,\n",
       "       4.91167169, 5.93246771, 5.19381742, 5.46953652, 5.38246341,\n",
       "       5.13604874, 5.1111283 , 5.68311504, 5.23277591, 5.74807455,\n",
       "       6.64066344, 6.0162998 , 5.89984475, 5.56980708, 5.51325526,\n",
       "       5.12197627, 6.58026126, 5.46480522, 5.28796283, 5.16110411,\n",
       "       5.16209681, 5.12434254, 6.63010879, 5.84896725, 6.03447213,\n",
       "       5.39595976, 5.7731734 , 5.64329336, 5.69018992, 5.15883577,\n",
       "       5.67774215, 6.26651178, 6.1563451 , 5.40033695, 5.35708875,\n",
       "       5.46336275, 5.96172928, 5.43766972, 6.12023115, 5.4818136 ,\n",
       "       6.63381657, 5.90502666, 5.67836571, 6.52600686, 5.81837074,\n",
       "       5.06736366, 5.38901886, 6.12867631, 5.79903498, 5.56579636,\n",
       "       5.48284966, 5.53225673, 5.15611026, 5.16475291, 6.73264086,\n",
       "       6.02563204, 5.51571622, 5.96345065, 5.53643961, 5.38368757,\n",
       "       5.62928587, 5.42746547, 6.42028267, 6.32825842, 5.55848728,\n",
       "       5.98393985, 5.97969773, 5.29638854, 5.46792653, 5.47835221,\n",
       "       6.29216457, 5.4619579 , 5.7208545 , 5.45555868, 5.79834903,\n",
       "       6.1100575 , 5.48494392, 6.00516513, 5.19572487, 5.44938737,\n",
       "       6.40117128, 5.21284694, 5.03714765, 5.2264525 , 5.36234838,\n",
       "       5.21979394, 6.57960711, 5.58554674, 5.57339445, 5.81355628,\n",
       "       5.58548451, 6.62245522, 5.28195639, 5.4288101 , 5.16103133,\n",
       "       5.53253708, 5.52504098, 5.17232805, 5.89947351, 6.25580659,\n",
       "       5.55151961, 5.48968247, 5.46317586, 5.15941229, 6.49519754,\n",
       "       5.14716058, 6.07759229, 5.94684913, 5.1399259 , 5.30022548,\n",
       "       5.32065759, 5.66491514, 5.39029071, 5.82232442, 4.99526324,\n",
       "       5.14697369, 5.38387447, 5.49223225, 6.62518121, 6.45115684,\n",
       "       5.450353  , 5.06164248, 6.18276024, 6.30916095, 5.25878353,\n",
       "       5.21694294, 5.59602055, 5.59592874, 6.18638339, 5.40852141,\n",
       "       5.4946105 , 5.34614265, 5.48658166, 6.31003217, 5.139739  ,\n",
       "       5.43033625, 5.17272173, 6.41053319, 5.6828347 , 5.08919642,\n",
       "       5.98834588, 5.08879818, 5.15794311, 5.69279264, 6.52393391,\n",
       "       6.23158354, 5.30155205, 5.07339438, 5.99011182, 4.94369796,\n",
       "       5.29111402, 5.95091784, 5.09291445, 5.11201762, 5.33055423,\n",
       "       5.26465475, 5.0512276 , 5.77459556, 6.08275237, 6.35487603,\n",
       "       6.05762421, 5.29399471, 5.38748569, 6.01283266, 5.4600209 ,\n",
       "       5.95797968, 6.67105607, 5.83753238, 6.20400758, 5.3624361 ,\n",
       "       5.50647537, 6.61939214, 5.26065308, 6.09771315, 5.62891207,\n",
       "       5.77760316, 5.42754729, 5.45025955, 5.45216721, 5.70501206,\n",
       "       5.28705232, 5.25668892, 5.73559018, 5.46114611, 5.72094795,\n",
       "       5.51308923, 6.22505596, 6.14558824])"
      ]
     },
     "execution_count": 36,
     "metadata": {},
     "output_type": "execute_result"
    }
   ],
   "source": [
    "train_pred=regressor.predict(x_train)\n",
    "train_pred"
   ]
  },
  {
   "cell_type": "code",
   "execution_count": 37,
   "id": "1da3c0bc",
   "metadata": {},
   "outputs": [
    {
     "data": {
      "text/plain": [
       "array([5.50418619, 4.9522389 , 5.735495  , 6.1664573 , 5.78771127,\n",
       "       5.31115462, 5.34482575, 5.89106022, 5.3162892 , 6.44185832,\n",
       "       5.46003373, 5.38537491, 5.58311048, 5.35860222, 5.14061979,\n",
       "       5.12216317, 5.5158106 , 5.39799703, 5.57781392, 5.37678368,\n",
       "       5.09138021, 6.08136129, 5.5541553 , 5.4957033 , 6.09927431,\n",
       "       5.34574995, 5.96679949, 5.34441921, 6.18168295, 5.80220203,\n",
       "       5.40579936, 5.78978732, 5.3027651 , 5.94544149, 5.89770645,\n",
       "       6.07461945, 5.29148342, 5.66711774, 5.87362095, 5.20981174,\n",
       "       5.11544613, 5.07525802, 6.11444588, 6.02640534, 5.33176572,\n",
       "       5.35461628, 5.16828154, 5.57534611, 5.69510336, 5.37881751,\n",
       "       5.1593882 , 5.63854987, 6.31266084, 5.78107677, 5.37650333,\n",
       "       5.86178774, 5.69117087, 5.52767741, 5.20043677, 5.4401957 ,\n",
       "       5.15032149, 5.95082439, 5.85268433, 5.56469467, 4.90409663,\n",
       "       5.54967503, 5.25552501, 5.63412188, 5.12689763, 5.68292815,\n",
       "       5.70898069, 5.38694975, 5.35583022, 5.63861693, 6.33971012,\n",
       "       5.50683921, 6.19914148, 5.51846288, 5.6547413 , 5.71672165,\n",
       "       5.1118107 , 5.80134129, 5.63058857, 5.12266346, 5.68728776,\n",
       "       6.14519874, 4.94111841, 6.34417687, 5.36308896, 5.72868385,\n",
       "       6.1971482 , 5.33861023, 5.66279928, 6.2535908 , 5.42960082,\n",
       "       5.07458757, 5.22151537, 5.71846339, 5.3512534 , 5.49922619,\n",
       "       5.28761837, 5.68009199, 5.72213556, 5.33449493, 5.21750734,\n",
       "       5.15756932, 5.32653348, 5.16106441, 6.38621787, 5.27096942,\n",
       "       5.30389988, 6.00646996, 5.48686707, 5.49640322, 5.92482613,\n",
       "       6.42303096, 5.61208695, 6.06480274, 5.29120307, 5.37273036,\n",
       "       6.25599349, 6.21856384, 5.96887884, 5.79969631, 5.27917887,\n",
       "       5.46987754, 5.3847316 , 5.78961852, 5.40138923, 5.83456971,\n",
       "       5.55938716, 5.42505486, 5.80874084, 6.70162434, 5.93052544,\n",
       "       5.74148617, 5.62347971, 6.34908334, 6.10102817, 6.5435397 ,\n",
       "       5.83848518, 6.39276204, 5.30343263, 5.33920173, 5.78871255,\n",
       "       4.94920923, 5.51299578, 6.0348247 , 5.4964093 , 5.16648724,\n",
       "       5.27040195, 5.28014349, 6.20878776, 5.22005566, 5.64599165,\n",
       "       5.31502384, 5.69288609, 5.90040989, 5.24021252, 5.90137697,\n",
       "       5.29770038, 5.66194825, 6.06455015, 5.99710107, 5.08910297,\n",
       "       5.06974684, 4.99744159, 5.10426015, 5.74860372, 6.10819098,\n",
       "       5.33091258, 5.79150681, 5.17311066, 6.60947072, 5.42224225,\n",
       "       5.60229847, 5.07458593, 5.44824447, 6.66339706, 5.40431302,\n",
       "       5.3619197 , 6.07658762, 5.42834352, 6.1592197 , 5.67827226,\n",
       "       6.16543174, 5.66269842, 5.10595504, 5.0888891 , 5.94506769,\n",
       "       5.30746684, 5.463872  , 5.42923946, 5.16849669, 5.77973128,\n",
       "       6.10879071, 6.32974218, 5.22688725, 5.26633869, 5.03119502,\n",
       "       6.1710512 , 5.58529762, 5.46906597, 6.10095342, 6.50576144,\n",
       "       5.45842637, 6.18186984, 5.40734353, 5.16665174, 5.76295446,\n",
       "       5.1451377 , 5.66730463, 5.40263712, 5.341744  , 5.11784335,\n",
       "       5.44897427, 6.36385298, 5.30380643, 5.4876229 , 6.32843999,\n",
       "       5.88854253, 5.33952667, 5.56827688, 6.65591609, 5.79922188,\n",
       "       5.16370003, 5.91049607, 6.27226276, 5.67480186, 4.70198429,\n",
       "       5.43038204, 5.21132486, 5.05672254, 5.55091978, 6.1029704 ,\n",
       "       5.31298314, 5.74223377, 5.94330013, 5.13911472, 5.6030373 ,\n",
       "       6.61173216, 5.33879713, 5.66805517, 4.95604126, 5.25144685,\n",
       "       5.39420253, 6.11499598, 6.03079551, 5.48569783, 5.06572085,\n",
       "       5.17905679])"
      ]
     },
     "execution_count": 37,
     "metadata": {},
     "output_type": "execute_result"
    }
   ],
   "source": [
    "test_pred=regressor.predict(x_test)\n",
    "test_pred"
   ]
  },
  {
   "cell_type": "code",
   "execution_count": 38,
   "id": "c4a48d86",
   "metadata": {},
   "outputs": [
    {
     "data": {
      "text/plain": [
       "0.57289384635547"
      ]
     },
     "execution_count": 38,
     "metadata": {},
     "output_type": "execute_result"
    }
   ],
   "source": [
    "train_rmse=metrics.mean_squared_error(train_pred,y_train)**0.5\n",
    "train_rmse"
   ]
  },
  {
   "cell_type": "code",
   "execution_count": 39,
   "id": "e891bd78",
   "metadata": {},
   "outputs": [
    {
     "data": {
      "text/plain": [
       "0.5193866686524748"
      ]
     },
     "execution_count": 39,
     "metadata": {},
     "output_type": "execute_result"
    }
   ],
   "source": [
    "test_rmse=metrics.mean_squared_error(test_pred,y_test)**0.5\n",
    "test_rmse"
   ]
  },
  {
   "cell_type": "code",
   "execution_count": 40,
   "id": "bc217c88",
   "metadata": {},
   "outputs": [
    {
     "data": {
      "text/plain": [
       "array([6., 5., 6., 6., 6., 5., 5., 6., 5., 6., 5., 5., 6., 5., 5., 5., 6.,\n",
       "       5., 6., 5., 5., 6., 6., 5., 6., 5., 6., 5., 6., 6., 5., 6., 5., 6.,\n",
       "       6., 6., 5., 6., 6., 5., 5., 5., 6., 6., 5., 5., 5., 6., 6., 5., 5.,\n",
       "       6., 6., 6., 5., 6., 6., 6., 5., 5., 5., 6., 6., 6., 5., 6., 5., 6.,\n",
       "       5., 6., 6., 5., 5., 6., 6., 6., 6., 6., 6., 6., 5., 6., 6., 5., 6.,\n",
       "       6., 5., 6., 5., 6., 6., 5., 6., 6., 5., 5., 5., 6., 5., 5., 5., 6.,\n",
       "       6., 5., 5., 5., 5., 5., 6., 5., 5., 6., 5., 5., 6., 6., 6., 6., 5.,\n",
       "       5., 6., 6., 6., 6., 5., 5., 5., 6., 5., 6., 6., 5., 6., 7., 6., 6.,\n",
       "       6., 6., 6., 7., 6., 6., 5., 5., 6., 5., 6., 6., 5., 5., 5., 5., 6.,\n",
       "       5., 6., 5., 6., 6., 5., 6., 5., 6., 6., 6., 5., 5., 5., 5., 6., 6.,\n",
       "       5., 6., 5., 7., 5., 6., 5., 5., 7., 5., 5., 6., 5., 6., 6., 6., 6.,\n",
       "       5., 5., 6., 5., 5., 5., 5., 6., 6., 6., 5., 5., 5., 6., 6., 5., 6.,\n",
       "       7., 5., 6., 5., 5., 6., 5., 6., 5., 5., 5., 5., 6., 5., 5., 6., 6.,\n",
       "       5., 6., 7., 6., 5., 6., 6., 6., 5., 5., 5., 5., 6., 6., 5., 6., 6.,\n",
       "       5., 6., 7., 5., 6., 5., 5., 5., 6., 6., 5., 5., 5.])"
      ]
     },
     "execution_count": 40,
     "metadata": {},
     "output_type": "execute_result"
    }
   ],
   "source": [
    "#Rounding off the predicted value for the test set\n",
    "predicted_data=np.round_(test_pred)\n",
    "predicted_data"
   ]
  },
  {
   "cell_type": "code",
   "execution_count": 41,
   "id": "2bf58959",
   "metadata": {},
   "outputs": [
    {
     "name": "stdout",
     "output_type": "stream",
     "text": [
      "Mean absolute error =  0.42244914614904744\n",
      "Mean squared error =  0.2697625115739157\n",
      "Root mean squared error =  0.5193866686524748\n"
     ]
    }
   ],
   "source": [
    "print(\"Mean absolute error = \",metrics.mean_absolute_error(y_test,test_pred))\n",
    "print(\"Mean squared error = \",metrics.mean_squared_error(y_test,test_pred))\n",
    "rmse=np.sqrt(metrics.mean_squared_error(y_test,test_pred))\n",
    "print(\"Root mean squared error = \",rmse) "
   ]
  },
  {
   "cell_type": "code",
   "execution_count": 42,
   "id": "bfaf5a1c",
   "metadata": {},
   "outputs": [
    {
     "data": {
      "text/plain": [
       "0.4107444701592031"
      ]
     },
     "execution_count": 42,
     "metadata": {},
     "output_type": "execute_result"
    }
   ],
   "source": [
    "from sklearn.metrics import r2_score\n",
    "r2_score(y_test,test_pred)"
   ]
  },
  {
   "cell_type": "code",
   "execution_count": 43,
   "id": "a0d5eafa",
   "metadata": {},
   "outputs": [
    {
     "data": {
      "text/html": [
       "<div>\n",
       "<style scoped>\n",
       "    .dataframe tbody tr th:only-of-type {\n",
       "        vertical-align: middle;\n",
       "    }\n",
       "\n",
       "    .dataframe tbody tr th {\n",
       "        vertical-align: top;\n",
       "    }\n",
       "\n",
       "    .dataframe thead th {\n",
       "        text-align: right;\n",
       "    }\n",
       "</style>\n",
       "<table border=\"1\" class=\"dataframe\">\n",
       "  <thead>\n",
       "    <tr style=\"text-align: right;\">\n",
       "      <th></th>\n",
       "      <th>Coefficient</th>\n",
       "    </tr>\n",
       "  </thead>\n",
       "  <tbody>\n",
       "    <tr>\n",
       "      <th>fixed acidity</th>\n",
       "      <td>0.059240</td>\n",
       "    </tr>\n",
       "    <tr>\n",
       "      <th>volatile acidity</th>\n",
       "      <td>-0.643628</td>\n",
       "    </tr>\n",
       "    <tr>\n",
       "      <th>citric acid</th>\n",
       "      <td>0.044525</td>\n",
       "    </tr>\n",
       "    <tr>\n",
       "      <th>chlorides</th>\n",
       "      <td>-0.523066</td>\n",
       "    </tr>\n",
       "    <tr>\n",
       "      <th>total sulfur dioxide</th>\n",
       "      <td>-0.001772</td>\n",
       "    </tr>\n",
       "    <tr>\n",
       "      <th>density</th>\n",
       "      <td>-58.391235</td>\n",
       "    </tr>\n",
       "    <tr>\n",
       "      <th>sulphates</th>\n",
       "      <td>1.642467</td>\n",
       "    </tr>\n",
       "    <tr>\n",
       "      <th>alcohol</th>\n",
       "      <td>0.237384</td>\n",
       "    </tr>\n",
       "    <tr>\n",
       "      <th>Id</th>\n",
       "      <td>-0.000093</td>\n",
       "    </tr>\n",
       "  </tbody>\n",
       "</table>\n",
       "</div>"
      ],
      "text/plain": [
       "                      Coefficient\n",
       "fixed acidity            0.059240\n",
       "volatile acidity        -0.643628\n",
       "citric acid              0.044525\n",
       "chlorides               -0.523066\n",
       "total sulfur dioxide    -0.001772\n",
       "density                -58.391235\n",
       "sulphates                1.642467\n",
       "alcohol                  0.237384\n",
       "Id                      -0.000093"
      ]
     },
     "execution_count": 43,
     "metadata": {},
     "output_type": "execute_result"
    }
   ],
   "source": [
    "coefficients=pd.DataFrame(regressor.coef_,features)\n",
    "coefficients.columns=['Coefficient']\n",
    "coefficients"
   ]
  },
  {
   "cell_type": "markdown",
   "id": "76b7afe2",
   "metadata": {},
   "source": [
    "import matplotlib.pyplot as plt1\n",
    "ax=plt1.axes()\n",
    "color1='green'\n",
    "color2='red'\n",
    "ax.arrow(0,0,1,0.56,head_width=0.00,head_length=0,fc=color2,ec=color1)\n",
    "ax.arrow(0,0,2,0.63,head_width=0.00,head_length=0.05,fc=color1,ec=color2,linestyle='--')\n",
    "ax.set_ylim([0,0.8])\n",
    "ax.set_xlim([0,4])\n",
    "plt.grid()\n",
    "plt.title('RMSE_SCORE')\n",
    "plt1.show()"
   ]
  },
  {
   "cell_type": "code",
   "execution_count": 46,
   "id": "027ea2c1",
   "metadata": {},
   "outputs": [
    {
     "data": {
      "image/png": "[encoded data removed]",
      "text/plain": [
       "<Figure size 640x480 with 1 Axes>"
      ]
     },
     "metadata": {},
     "output_type": "display_data"
    }
   ],
   "source": [
    "import matplotlib.pyplot as plt1\n",
    "ax=plt1.axes()\n",
    "color1='green'\n",
    "color2='blue'\n",
    "ax.arrow(0,0,2,0.41,head_width=0.00,head_length=0,fc=color2,ec=color2)\n",
    "ax.arrow(0,0,1,0.35,head_width=0.00,head_length=0.05,fc=color1,ec=color1,linestyle='--')\n",
    "ax.set_ylim([0,0.6])\n",
    "ax.set_xlim([0,3])\n",
    "plt.grid()\n",
    "plt.title('MAE')\n",
    "plt1.show()"
   ]
  },
  {
   "cell_type": "code",
   "execution_count": null,
   "id": "bd604412",
   "metadata": {},
   "outputs": [],
   "source": []
  }
 ],
 "metadata": {
  "kernelspec": {
   "display_name": "Python 3 (ipykernel)",
   "language": "python",
   "name": "python3"
  },
  "language_info": {
   "codemirror_mode": {
    "name": "ipython",
    "version": 3
   },
   "file_extension": ".py",
   "mimetype": "text/x-python",
   "name": "python",
   "nbconvert_exporter": "python",
   "pygments_lexer": "ipython3",
   "version": "3.11.5"
  }
 },
 "nbformat": 4,
 "nbformat_minor": 5
}
